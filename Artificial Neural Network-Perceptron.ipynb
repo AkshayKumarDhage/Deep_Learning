{
 "cells": [
  {
   "cell_type": "markdown",
   "metadata": {},
   "source": [
    "# Perceptron\n",
    "\n",
    "### Developing Simple Neural Network with one input layer and one output layer also known as Perceptron, from scratch in Python"
   ]
  },
  {
   "cell_type": "code",
   "execution_count": 20,
   "metadata": {},
   "outputs": [],
   "source": [
    "import numpy as np"
   ]
  },
  {
   "cell_type": "markdown",
   "metadata": {},
   "source": [
    "Suppose we have some dummy information about obesity, smoking habits, and exercise habits of five people, we also know whether these people are diabetic or not as shown below data."
   ]
  },
  {
   "cell_type": "code",
   "execution_count": 21,
   "metadata": {},
   "outputs": [],
   "source": [
    "feature_set = np.array([[0,1,0],\n",
    "                        [0,0,1],\n",
    "                        [1,0,0],\n",
    "                        [1,1,0],\n",
    "                        [1,1,1]])\n",
    "labels = np.array([[1,0,0,1,1]])\n",
    "labels = labels.reshape(5,1)"
   ]
  },
  {
   "cell_type": "code",
   "execution_count": 22,
   "metadata": {},
   "outputs": [],
   "source": [
    "np.random.seed(42)\n",
    "weights = np.random.rand(3,1)\n",
    "bias = np.random.rand(1)\n",
    "lr = 0.05                                #learning-rate"
   ]
  },
  {
   "cell_type": "code",
   "execution_count": 23,
   "metadata": {},
   "outputs": [],
   "source": [
    "#sigmoid activation function for forward propagation\n",
    "def sigmoid(x):\n",
    "    return 1/(1+np.exp(-x))\n",
    "\n",
    "#sigmoid derivative for back propagation\n",
    "def sigmoid_der(x):\n",
    "    return sigmoid(x)*(1-sigmoid(x))"
   ]
  },
  {
   "cell_type": "code",
   "execution_count": 24,
   "metadata": {},
   "outputs": [],
   "source": [
    "#training neural network\n",
    "for epoch in range(20000):\n",
    "    inputs = feature_set\n",
    "    \n",
    "    #forward propagation\n",
    "    xw = np.dot(feature_set, weights) + bias\n",
    "    z = sigmoid(xw)\n",
    "    \n",
    "    #back propagation step 1\n",
    "    error = z - labels\n",
    "    \n",
    "    #error reduces on each iteration\n",
    "    #print(error.sum())\n",
    "    \n",
    "    #back propagation step 2\n",
    "    z_delta = error * sigmoid_der(z) \n",
    "    \n",
    "    inputs = feature_set.T\n",
    "    weights -= lr*np.dot(inputs, z_delta)\n",
    "    \n",
    "    for num in z_delta:\n",
    "        bias -= lr*num"
   ]
  },
  {
   "cell_type": "code",
   "execution_count": 25,
   "metadata": {},
   "outputs": [],
   "source": [
    "#neural network model to test\n",
    "def model(x, w, b):\n",
    "    y = np.dot(x, w) + b\n",
    "    z = sigmoid(y)\n",
    "    return z"
   ]
  },
  {
   "cell_type": "code",
   "execution_count": 26,
   "metadata": {},
   "outputs": [
    {
     "name": "stdout",
     "output_type": "stream",
     "text": [
      "[0.00707584]\n"
     ]
    }
   ],
   "source": [
    "#sample test 1\n",
    "single_point = np.array([1,0,0])\n",
    "result = model(single_point, weights, bias)\n",
    "print(result)"
   ]
  },
  {
   "cell_type": "code",
   "execution_count": 27,
   "metadata": {},
   "outputs": [
    {
     "name": "stdout",
     "output_type": "stream",
     "text": [
      "[0.99837029]\n"
     ]
    }
   ],
   "source": [
    "#sample test 2\n",
    "single_point = np.array([0,1,0])\n",
    "result = model(single_point, weights, bias)\n",
    "print(result)"
   ]
  }
 ],
 "metadata": {
  "kernelspec": {
   "display_name": "Python 3",
   "language": "python",
   "name": "python3"
  },
  "language_info": {
   "codemirror_mode": {
    "name": "ipython",
    "version": 3
   },
   "file_extension": ".py",
   "mimetype": "text/x-python",
   "name": "python",
   "nbconvert_exporter": "python",
   "pygments_lexer": "ipython3",
   "version": "3.6.7"
  }
 },
 "nbformat": 4,
 "nbformat_minor": 2
}
